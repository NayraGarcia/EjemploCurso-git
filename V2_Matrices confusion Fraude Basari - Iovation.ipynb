{
 "cells": [
  {
   "cell_type": "markdown",
   "metadata": {},
   "source": [
    "## Universo \"Fraude Basari\" ampliado. Equivale a DNI marcados con \"Alerta\" en tabla clientes y DNIs que hayan impagado alguna vez( OP_Numimphist>0 )"
   ]
  },
  {
   "cell_type": "code",
   "execution_count": 1,
   "metadata": {},
   "outputs": [
    {
     "data": {
      "text/html": [
       "<style>.container { width:98% !important; }</style>"
      ],
      "text/plain": [
       "<IPython.core.display.HTML object>"
      ]
     },
     "metadata": {},
     "output_type": "display_data"
    }
   ],
   "source": [
    "from IPython.core.display import display, HTML\n",
    "display(HTML(\"<style>.container { width:98% !important; }</style>\"))"
   ]
  },
  {
   "cell_type": "code",
   "execution_count": null,
   "metadata": {},
   "outputs": [],
   "source": [
    "from IPython.core.display import display, HTML\n",
    "display(HTML(\"<style>.container { width:98% !important; }</style>\"))"
   ]
  },
  {
   "cell_type": "code",
   "execution_count": null,
   "metadata": {},
   "outputs": [],
   "source": []
  },
  {
   "cell_type": "code",
   "execution_count": 3,
   "metadata": {},
   "outputs": [],
   "source": [
    "import pandas as pd"
   ]
  },
  {
   "cell_type": "code",
   "execution_count": null,
   "metadata": {},
   "outputs": [],
   "source": [
    "print(\"ME ENCANTA EL CURSO DE GITHUB!\")"
   ]
  },
  {
   "cell_type": "code",
   "execution_count": null,
   "metadata": {},
   "outputs": [
    {
     "name": "stdout",
     "output_type": "stream",
     "text": [
      "Hola Nayra\n"
     ]
    }
   ],
   "source": [
    "print(\"Hola Nayra\")\n",
    "\n"
   ]
  },
  {
   "cell_type": "code",
   "execution_count": 4,
   "metadata": {
    "scrolled": true
   },
   "outputs": [],
   "source": [
    "from sqlalchemy import create_engine\n",
    "server = 'SPADWHTEST' \n",
    "database = 'SANDBOX_RIESGOS' \n",
    "engine = create_engine('mssql+pyodbc://'+ server + '/' + database + '?trusted_connection=yes&driver=ODBC+Driver+13+for+SQL+Server') # Nayra ODBC+Driver+11"
   ]
  },
  {
   "cell_type": "code",
   "execution_count": 5,
   "metadata": {},
   "outputs": [],
   "source": [
    "df = pd.read_sql(\"SELECT * FROM SANDBOX_RIESGOS.[dbo].confusion_matrix_iovation;\", engine)"
   ]
  },
  {
   "cell_type": "code",
   "execution_count": 6,
   "metadata": {},
   "outputs": [
    {
     "data": {
      "text/plain": [
       "26977"
      ]
     },
     "execution_count": 6,
     "metadata": {},
     "output_type": "execute_result"
    }
   ],
   "source": [
    "df['IDPropuesta'].count()"
   ]
  },
  {
   "cell_type": "code",
   "execution_count": 7,
   "metadata": {},
   "outputs": [],
   "source": [
    "pd.set_option('display.max_columns', None)"
   ]
  },
  {
   "cell_type": "code",
   "execution_count": 8,
   "metadata": {},
   "outputs": [],
   "source": [
    "pd.set_option('display.max_rows', 500)"
   ]
  },
  {
   "cell_type": "code",
   "execution_count": 9,
   "metadata": {},
   "outputs": [
    {
     "data": {
      "text/html": [
       "<div>\n",
       "<style scoped>\n",
       "    .dataframe tbody tr th:only-of-type {\n",
       "        vertical-align: middle;\n",
       "    }\n",
       "\n",
       "    .dataframe tbody tr th {\n",
       "        vertical-align: top;\n",
       "    }\n",
       "\n",
       "    .dataframe thead th {\n",
       "        text-align: right;\n",
       "    }\n",
       "</style>\n",
       "<table border=\"1\" class=\"dataframe\">\n",
       "  <thead>\n",
       "    <tr style=\"text-align: right;\">\n",
       "      <th></th>\n",
       "      <th>IDPropuesta</th>\n",
       "      <th>DNI</th>\n",
       "      <th>EMail</th>\n",
       "      <th>Telefono</th>\n",
       "      <th>Alias</th>\n",
       "      <th>Score</th>\n",
       "      <th>Score_Baseline</th>\n",
       "      <th>V1_Score_DNI_Email</th>\n",
       "      <th>V1_Max_Email_Peticion</th>\n",
       "      <th>V2_Score_DNI_Telefono</th>\n",
       "      <th>V2_Max_Telefono_Peticion</th>\n",
       "      <th>V3_Score_DNI_Dispositivo</th>\n",
       "      <th>V3_Max_Dispositivo_Peticion</th>\n",
       "      <th>V4_Score_Email_DNI</th>\n",
       "      <th>V4_Max_DNI_Peticion</th>\n",
       "      <th>V5_Score_Email_Telefono</th>\n",
       "      <th>V5_Max_Telefono_Peticion</th>\n",
       "      <th>V6_Score_Email_Dispositivo</th>\n",
       "      <th>V6_Max_Dispositivo_Peticion</th>\n",
       "      <th>V7_Score_Telefono_DNI</th>\n",
       "      <th>V7_Max_DNI_Peticion</th>\n",
       "      <th>V8_Score_Telefono_Email</th>\n",
       "      <th>V8_Max_EMAIL_Peticion</th>\n",
       "      <th>V9_Score_Telefono_Dispositivo</th>\n",
       "      <th>V9_Max_Dispositivo_Peticion</th>\n",
       "      <th>V10_Score_Dispositivo_DNI</th>\n",
       "      <th>V10_Max_DNI_Peticion</th>\n",
       "      <th>V11_Score_Dispositivo_DNI</th>\n",
       "      <th>V11_Max_EMAIL_Peticion</th>\n",
       "      <th>V12_Score_Dispositivo_DNI</th>\n",
       "      <th>V12_Max_TELEFONO_Peticion</th>\n",
       "      <th>Fraude_Basari</th>\n",
       "      <th>FechaHoraAlta</th>\n",
       "      <th>Estado</th>\n",
       "      <th>Nuevo_Viejo_ECO</th>\n",
       "      <th>SECTORHOGARDESG</th>\n",
       "      <th>PDV_Hijo_nombre</th>\n",
       "      <th>regla_negativa</th>\n",
       "      <th>Accounts Created Per Device- 2 in 30 days</th>\n",
       "      <th>Accounts Per Device- 3 Max</th>\n",
       "      <th>Botnet Risk</th>\n",
       "      <th>Proxy in Use</th>\n",
       "      <th>Owned Evidence Exists</th>\n",
       "      <th>Device Risk (local)- Min 20 Percent</th>\n",
       "      <th>Suspect Device Data</th>\n",
       "      <th>IP Address Risk (global)- Min 50 Percent</th>\n",
       "      <th>Countries Per Account- 2 in 1 day</th>\n",
       "      <th>Countries Per Device- 2 in 1 day</th>\n",
       "      <th>Device Risk (global)- Min 50 Percent</th>\n",
       "      <th>TOR Exit Node IP</th>\n",
       "      <th>High Risk Country</th>\n",
       "      <th>High Risk ISPs (global)</th>\n",
       "      <th>Other Subscriber Policy Fraud Evidence</th>\n",
       "      <th>Other Subscriber ID Theft Evidence</th>\n",
       "      <th>Other Subscriber ATO Evidence</th>\n",
       "      <th>Other Subscriber Financial Evidence</th>\n",
       "      <th>Other Subscriber Miscellaneous Evidence</th>\n",
       "      <th>Other Subscriber Cheating Evidence</th>\n",
       "      <th>Timezone/Geolocation Mismatch- More Than 3</th>\n",
       "      <th>Transactions Per Device (local)- 5 in 1 day</th>\n",
       "      <th>Transactions Per IP- 5 in 1 hour</th>\n",
       "    </tr>\n",
       "  </thead>\n",
       "  <tbody>\n",
       "    <tr>\n",
       "      <th>0</th>\n",
       "      <td>5082956</td>\n",
       "      <td>71139283F</td>\n",
       "      <td>JUAMEROD@HOTMAIL.COM</td>\n",
       "      <td>625668327</td>\n",
       "      <td>216261651040592336</td>\n",
       "      <td>-2</td>\n",
       "      <td>0</td>\n",
       "      <td>0</td>\n",
       "      <td>1.0</td>\n",
       "      <td>0</td>\n",
       "      <td>1.0</td>\n",
       "      <td>0</td>\n",
       "      <td>1</td>\n",
       "      <td>0</td>\n",
       "      <td>1.0</td>\n",
       "      <td>0</td>\n",
       "      <td>1.0</td>\n",
       "      <td>0</td>\n",
       "      <td>1.0</td>\n",
       "      <td>0</td>\n",
       "      <td>1.0</td>\n",
       "      <td>0</td>\n",
       "      <td>1.0</td>\n",
       "      <td>0</td>\n",
       "      <td>1.0</td>\n",
       "      <td>-1</td>\n",
       "      <td>56</td>\n",
       "      <td>-1</td>\n",
       "      <td>54</td>\n",
       "      <td>-1</td>\n",
       "      <td>55</td>\n",
       "      <td>0</td>\n",
       "      <td>2022-01-14 21:16:18</td>\n",
       "      <td>ACT</td>\n",
       "      <td>Nuevo</td>\n",
       "      <td>Electrodomesticos</td>\n",
       "      <td>EVVO HOME</td>\n",
       "      <td>False</td>\n",
       "      <td>1</td>\n",
       "      <td>1</td>\n",
       "      <td>0</td>\n",
       "      <td>0</td>\n",
       "      <td>0</td>\n",
       "      <td>0</td>\n",
       "      <td>0</td>\n",
       "      <td>0</td>\n",
       "      <td>0</td>\n",
       "      <td>0</td>\n",
       "      <td>0</td>\n",
       "      <td>0</td>\n",
       "      <td>0</td>\n",
       "      <td>0</td>\n",
       "      <td>0</td>\n",
       "      <td>0</td>\n",
       "      <td>0</td>\n",
       "      <td>0</td>\n",
       "      <td>0</td>\n",
       "      <td>0</td>\n",
       "      <td>0</td>\n",
       "      <td>0</td>\n",
       "      <td>0</td>\n",
       "    </tr>\n",
       "    <tr>\n",
       "      <th>1</th>\n",
       "      <td>5102042</td>\n",
       "      <td>45668526W</td>\n",
       "      <td>ANGEL_ANUXKA@HOTMAIL.ES</td>\n",
       "      <td>657065605</td>\n",
       "      <td>214333998449484870</td>\n",
       "      <td>-1</td>\n",
       "      <td>0</td>\n",
       "      <td>0</td>\n",
       "      <td>1.0</td>\n",
       "      <td>0</td>\n",
       "      <td>1.0</td>\n",
       "      <td>0</td>\n",
       "      <td>1</td>\n",
       "      <td>-1</td>\n",
       "      <td>2.0</td>\n",
       "      <td>0</td>\n",
       "      <td>1.0</td>\n",
       "      <td>0</td>\n",
       "      <td>1.0</td>\n",
       "      <td>-1</td>\n",
       "      <td>2.0</td>\n",
       "      <td>0</td>\n",
       "      <td>1.0</td>\n",
       "      <td>0</td>\n",
       "      <td>1.0</td>\n",
       "      <td>-1</td>\n",
       "      <td>2</td>\n",
       "      <td>0</td>\n",
       "      <td>1</td>\n",
       "      <td>0</td>\n",
       "      <td>1</td>\n",
       "      <td>0</td>\n",
       "      <td>2022-01-28 21:43:38</td>\n",
       "      <td>WTD</td>\n",
       "      <td>Nuevo</td>\n",
       "      <td>Electrodomesticos</td>\n",
       "      <td>EVVO HOME</td>\n",
       "      <td>False</td>\n",
       "      <td>1</td>\n",
       "      <td>0</td>\n",
       "      <td>0</td>\n",
       "      <td>0</td>\n",
       "      <td>0</td>\n",
       "      <td>0</td>\n",
       "      <td>0</td>\n",
       "      <td>0</td>\n",
       "      <td>0</td>\n",
       "      <td>0</td>\n",
       "      <td>0</td>\n",
       "      <td>0</td>\n",
       "      <td>0</td>\n",
       "      <td>0</td>\n",
       "      <td>0</td>\n",
       "      <td>0</td>\n",
       "      <td>0</td>\n",
       "      <td>0</td>\n",
       "      <td>0</td>\n",
       "      <td>0</td>\n",
       "      <td>0</td>\n",
       "      <td>0</td>\n",
       "      <td>0</td>\n",
       "    </tr>\n",
       "    <tr>\n",
       "      <th>2</th>\n",
       "      <td>5102044</td>\n",
       "      <td>16079736E</td>\n",
       "      <td>ANGEL_ANUXKA@HOTMAIL.ES</td>\n",
       "      <td>657065605</td>\n",
       "      <td>214333998449484870</td>\n",
       "      <td>-2</td>\n",
       "      <td>0</td>\n",
       "      <td>0</td>\n",
       "      <td>1.0</td>\n",
       "      <td>0</td>\n",
       "      <td>1.0</td>\n",
       "      <td>0</td>\n",
       "      <td>1</td>\n",
       "      <td>0</td>\n",
       "      <td>1.0</td>\n",
       "      <td>0</td>\n",
       "      <td>1.0</td>\n",
       "      <td>0</td>\n",
       "      <td>1.0</td>\n",
       "      <td>-1</td>\n",
       "      <td>2.0</td>\n",
       "      <td>0</td>\n",
       "      <td>1.0</td>\n",
       "      <td>0</td>\n",
       "      <td>1.0</td>\n",
       "      <td>-1</td>\n",
       "      <td>2</td>\n",
       "      <td>0</td>\n",
       "      <td>1</td>\n",
       "      <td>0</td>\n",
       "      <td>1</td>\n",
       "      <td>0</td>\n",
       "      <td>2022-01-28 22:32:45</td>\n",
       "      <td>WTD</td>\n",
       "      <td>Nuevo</td>\n",
       "      <td>Electrodomesticos</td>\n",
       "      <td>EVVO HOME</td>\n",
       "      <td>False</td>\n",
       "      <td>1</td>\n",
       "      <td>1</td>\n",
       "      <td>0</td>\n",
       "      <td>0</td>\n",
       "      <td>0</td>\n",
       "      <td>0</td>\n",
       "      <td>0</td>\n",
       "      <td>0</td>\n",
       "      <td>0</td>\n",
       "      <td>0</td>\n",
       "      <td>0</td>\n",
       "      <td>0</td>\n",
       "      <td>0</td>\n",
       "      <td>0</td>\n",
       "      <td>0</td>\n",
       "      <td>0</td>\n",
       "      <td>0</td>\n",
       "      <td>0</td>\n",
       "      <td>0</td>\n",
       "      <td>0</td>\n",
       "      <td>0</td>\n",
       "      <td>0</td>\n",
       "      <td>0</td>\n",
       "    </tr>\n",
       "    <tr>\n",
       "      <th>3</th>\n",
       "      <td>4946457</td>\n",
       "      <td>06266493M</td>\n",
       "      <td>SONIAAREVALOROMERO10@GMAIL.COM</td>\n",
       "      <td>666732809</td>\n",
       "      <td>713499982991350403</td>\n",
       "      <td>-1</td>\n",
       "      <td>0</td>\n",
       "      <td>0</td>\n",
       "      <td>1.0</td>\n",
       "      <td>0</td>\n",
       "      <td>1.0</td>\n",
       "      <td>0</td>\n",
       "      <td>1</td>\n",
       "      <td>0</td>\n",
       "      <td>1.0</td>\n",
       "      <td>0</td>\n",
       "      <td>1.0</td>\n",
       "      <td>0</td>\n",
       "      <td>1.0</td>\n",
       "      <td>0</td>\n",
       "      <td>1.0</td>\n",
       "      <td>0</td>\n",
       "      <td>1.0</td>\n",
       "      <td>0</td>\n",
       "      <td>1.0</td>\n",
       "      <td>0</td>\n",
       "      <td>1</td>\n",
       "      <td>0</td>\n",
       "      <td>1</td>\n",
       "      <td>0</td>\n",
       "      <td>1</td>\n",
       "      <td>1</td>\n",
       "      <td>2021-09-28 20:17:37</td>\n",
       "      <td>ACT</td>\n",
       "      <td>Nuevo</td>\n",
       "      <td>Electrodomesticos</td>\n",
       "      <td>ELECTROBUENO</td>\n",
       "      <td>False</td>\n",
       "      <td>1</td>\n",
       "      <td>0</td>\n",
       "      <td>0</td>\n",
       "      <td>0</td>\n",
       "      <td>0</td>\n",
       "      <td>0</td>\n",
       "      <td>0</td>\n",
       "      <td>0</td>\n",
       "      <td>0</td>\n",
       "      <td>0</td>\n",
       "      <td>0</td>\n",
       "      <td>0</td>\n",
       "      <td>0</td>\n",
       "      <td>0</td>\n",
       "      <td>0</td>\n",
       "      <td>0</td>\n",
       "      <td>0</td>\n",
       "      <td>0</td>\n",
       "      <td>0</td>\n",
       "      <td>0</td>\n",
       "      <td>0</td>\n",
       "      <td>0</td>\n",
       "      <td>0</td>\n",
       "    </tr>\n",
       "    <tr>\n",
       "      <th>4</th>\n",
       "      <td>4969389</td>\n",
       "      <td>22647577Y</td>\n",
       "      <td>RUBIA_23@MSN.COM</td>\n",
       "      <td>610865025</td>\n",
       "      <td>416617861425348006</td>\n",
       "      <td>0</td>\n",
       "      <td>0</td>\n",
       "      <td>0</td>\n",
       "      <td>1.0</td>\n",
       "      <td>0</td>\n",
       "      <td>1.0</td>\n",
       "      <td>0</td>\n",
       "      <td>1</td>\n",
       "      <td>0</td>\n",
       "      <td>1.0</td>\n",
       "      <td>0</td>\n",
       "      <td>1.0</td>\n",
       "      <td>0</td>\n",
       "      <td>1.0</td>\n",
       "      <td>0</td>\n",
       "      <td>1.0</td>\n",
       "      <td>0</td>\n",
       "      <td>1.0</td>\n",
       "      <td>0</td>\n",
       "      <td>1.0</td>\n",
       "      <td>0</td>\n",
       "      <td>1</td>\n",
       "      <td>0</td>\n",
       "      <td>1</td>\n",
       "      <td>0</td>\n",
       "      <td>1</td>\n",
       "      <td>0</td>\n",
       "      <td>2021-10-17 13:41:28</td>\n",
       "      <td>WTD</td>\n",
       "      <td>Nuevo</td>\n",
       "      <td>Electrodomesticos</td>\n",
       "      <td>EVVO HOME</td>\n",
       "      <td>False</td>\n",
       "      <td>0</td>\n",
       "      <td>0</td>\n",
       "      <td>0</td>\n",
       "      <td>0</td>\n",
       "      <td>0</td>\n",
       "      <td>0</td>\n",
       "      <td>0</td>\n",
       "      <td>0</td>\n",
       "      <td>0</td>\n",
       "      <td>0</td>\n",
       "      <td>0</td>\n",
       "      <td>0</td>\n",
       "      <td>0</td>\n",
       "      <td>0</td>\n",
       "      <td>0</td>\n",
       "      <td>0</td>\n",
       "      <td>0</td>\n",
       "      <td>0</td>\n",
       "      <td>0</td>\n",
       "      <td>0</td>\n",
       "      <td>0</td>\n",
       "      <td>0</td>\n",
       "      <td>0</td>\n",
       "    </tr>\n",
       "  </tbody>\n",
       "</table>\n",
       "</div>"
      ],
      "text/plain": [
       "   IDPropuesta        DNI                           EMail   Telefono  \\\n",
       "0      5082956  71139283F            JUAMEROD@HOTMAIL.COM  625668327   \n",
       "1      5102042  45668526W         ANGEL_ANUXKA@HOTMAIL.ES  657065605   \n",
       "2      5102044  16079736E         ANGEL_ANUXKA@HOTMAIL.ES  657065605   \n",
       "3      4946457  06266493M  SONIAAREVALOROMERO10@GMAIL.COM  666732809   \n",
       "4      4969389  22647577Y                RUBIA_23@MSN.COM  610865025   \n",
       "\n",
       "                Alias  Score  Score_Baseline  V1_Score_DNI_Email  \\\n",
       "0  216261651040592336     -2               0                   0   \n",
       "1  214333998449484870     -1               0                   0   \n",
       "2  214333998449484870     -2               0                   0   \n",
       "3  713499982991350403     -1               0                   0   \n",
       "4  416617861425348006      0               0                   0   \n",
       "\n",
       "   V1_Max_Email_Peticion  V2_Score_DNI_Telefono  V2_Max_Telefono_Peticion  \\\n",
       "0                    1.0                      0                       1.0   \n",
       "1                    1.0                      0                       1.0   \n",
       "2                    1.0                      0                       1.0   \n",
       "3                    1.0                      0                       1.0   \n",
       "4                    1.0                      0                       1.0   \n",
       "\n",
       "   V3_Score_DNI_Dispositivo  V3_Max_Dispositivo_Peticion  V4_Score_Email_DNI  \\\n",
       "0                         0                            1                   0   \n",
       "1                         0                            1                  -1   \n",
       "2                         0                            1                   0   \n",
       "3                         0                            1                   0   \n",
       "4                         0                            1                   0   \n",
       "\n",
       "   V4_Max_DNI_Peticion  V5_Score_Email_Telefono  V5_Max_Telefono_Peticion  \\\n",
       "0                  1.0                        0                       1.0   \n",
       "1                  2.0                        0                       1.0   \n",
       "2                  1.0                        0                       1.0   \n",
       "3                  1.0                        0                       1.0   \n",
       "4                  1.0                        0                       1.0   \n",
       "\n",
       "   V6_Score_Email_Dispositivo  V6_Max_Dispositivo_Peticion  \\\n",
       "0                           0                          1.0   \n",
       "1                           0                          1.0   \n",
       "2                           0                          1.0   \n",
       "3                           0                          1.0   \n",
       "4                           0                          1.0   \n",
       "\n",
       "   V7_Score_Telefono_DNI  V7_Max_DNI_Peticion  V8_Score_Telefono_Email  \\\n",
       "0                      0                  1.0                        0   \n",
       "1                     -1                  2.0                        0   \n",
       "2                     -1                  2.0                        0   \n",
       "3                      0                  1.0                        0   \n",
       "4                      0                  1.0                        0   \n",
       "\n",
       "   V8_Max_EMAIL_Peticion  V9_Score_Telefono_Dispositivo  \\\n",
       "0                    1.0                              0   \n",
       "1                    1.0                              0   \n",
       "2                    1.0                              0   \n",
       "3                    1.0                              0   \n",
       "4                    1.0                              0   \n",
       "\n",
       "   V9_Max_Dispositivo_Peticion  V10_Score_Dispositivo_DNI  \\\n",
       "0                          1.0                         -1   \n",
       "1                          1.0                         -1   \n",
       "2                          1.0                         -1   \n",
       "3                          1.0                          0   \n",
       "4                          1.0                          0   \n",
       "\n",
       "   V10_Max_DNI_Peticion  V11_Score_Dispositivo_DNI  V11_Max_EMAIL_Peticion  \\\n",
       "0                    56                         -1                      54   \n",
       "1                     2                          0                       1   \n",
       "2                     2                          0                       1   \n",
       "3                     1                          0                       1   \n",
       "4                     1                          0                       1   \n",
       "\n",
       "   V12_Score_Dispositivo_DNI  V12_Max_TELEFONO_Peticion  Fraude_Basari  \\\n",
       "0                         -1                         55              0   \n",
       "1                          0                          1              0   \n",
       "2                          0                          1              0   \n",
       "3                          0                          1              1   \n",
       "4                          0                          1              0   \n",
       "\n",
       "        FechaHoraAlta Estado Nuevo_Viejo_ECO    SECTORHOGARDESG  \\\n",
       "0 2022-01-14 21:16:18    ACT           Nuevo  Electrodomesticos   \n",
       "1 2022-01-28 21:43:38    WTD           Nuevo  Electrodomesticos   \n",
       "2 2022-01-28 22:32:45    WTD           Nuevo  Electrodomesticos   \n",
       "3 2021-09-28 20:17:37    ACT           Nuevo  Electrodomesticos   \n",
       "4 2021-10-17 13:41:28    WTD           Nuevo  Electrodomesticos   \n",
       "\n",
       "  PDV_Hijo_nombre  regla_negativa  Accounts Created Per Device- 2 in 30 days  \\\n",
       "0       EVVO HOME           False                                          1   \n",
       "1       EVVO HOME           False                                          1   \n",
       "2       EVVO HOME           False                                          1   \n",
       "3    ELECTROBUENO           False                                          1   \n",
       "4       EVVO HOME           False                                          0   \n",
       "\n",
       "   Accounts Per Device- 3 Max  Botnet Risk  Proxy in Use  \\\n",
       "0                           1            0             0   \n",
       "1                           0            0             0   \n",
       "2                           1            0             0   \n",
       "3                           0            0             0   \n",
       "4                           0            0             0   \n",
       "\n",
       "   Owned Evidence Exists  Device Risk (local)- Min 20 Percent  \\\n",
       "0                      0                                    0   \n",
       "1                      0                                    0   \n",
       "2                      0                                    0   \n",
       "3                      0                                    0   \n",
       "4                      0                                    0   \n",
       "\n",
       "   Suspect Device Data  IP Address Risk (global)- Min 50 Percent  \\\n",
       "0                    0                                         0   \n",
       "1                    0                                         0   \n",
       "2                    0                                         0   \n",
       "3                    0                                         0   \n",
       "4                    0                                         0   \n",
       "\n",
       "   Countries Per Account- 2 in 1 day  Countries Per Device- 2 in 1 day  \\\n",
       "0                                  0                                 0   \n",
       "1                                  0                                 0   \n",
       "2                                  0                                 0   \n",
       "3                                  0                                 0   \n",
       "4                                  0                                 0   \n",
       "\n",
       "   Device Risk (global)- Min 50 Percent  TOR Exit Node IP  High Risk Country  \\\n",
       "0                                     0                 0                  0   \n",
       "1                                     0                 0                  0   \n",
       "2                                     0                 0                  0   \n",
       "3                                     0                 0                  0   \n",
       "4                                     0                 0                  0   \n",
       "\n",
       "   High Risk ISPs (global)  Other Subscriber Policy Fraud Evidence  \\\n",
       "0                        0                                       0   \n",
       "1                        0                                       0   \n",
       "2                        0                                       0   \n",
       "3                        0                                       0   \n",
       "4                        0                                       0   \n",
       "\n",
       "   Other Subscriber ID Theft Evidence  Other Subscriber ATO Evidence  \\\n",
       "0                                   0                              0   \n",
       "1                                   0                              0   \n",
       "2                                   0                              0   \n",
       "3                                   0                              0   \n",
       "4                                   0                              0   \n",
       "\n",
       "   Other Subscriber Financial Evidence  \\\n",
       "0                                    0   \n",
       "1                                    0   \n",
       "2                                    0   \n",
       "3                                    0   \n",
       "4                                    0   \n",
       "\n",
       "   Other Subscriber Miscellaneous Evidence  \\\n",
       "0                                        0   \n",
       "1                                        0   \n",
       "2                                        0   \n",
       "3                                        0   \n",
       "4                                        0   \n",
       "\n",
       "   Other Subscriber Cheating Evidence  \\\n",
       "0                                   0   \n",
       "1                                   0   \n",
       "2                                   0   \n",
       "3                                   0   \n",
       "4                                   0   \n",
       "\n",
       "   Timezone/Geolocation Mismatch- More Than 3  \\\n",
       "0                                           0   \n",
       "1                                           0   \n",
       "2                                           0   \n",
       "3                                           0   \n",
       "4                                           0   \n",
       "\n",
       "   Transactions Per Device (local)- 5 in 1 day  \\\n",
       "0                                            0   \n",
       "1                                            0   \n",
       "2                                            0   \n",
       "3                                            0   \n",
       "4                                            0   \n",
       "\n",
       "   Transactions Per IP- 5 in 1 hour  \n",
       "0                                 0  \n",
       "1                                 0  \n",
       "2                                 0  \n",
       "3                                 0  \n",
       "4                                 0  "
      ]
     },
     "execution_count": 9,
     "metadata": {},
     "output_type": "execute_result"
    }
   ],
   "source": [
    "df.head()"
   ]
  },
  {
   "attachments": {
    "image.png": {
     "image/png": "[encoded data removed]"
    }
   },
   "cell_type": "markdown",
   "metadata": {},
   "source": [
    "![image.png](attachment:image.png)"
   ]
  },
  {
   "attachments": {
    "image.png": {
     "image/png": "[encoded data removed]"
    }
   },
   "cell_type": "markdown",
   "metadata": {},
   "source": [
    "![image.png](attachment:image.png)"
   ]
  },
  {
   "cell_type": "code",
   "execution_count": 11,
   "metadata": {},
   "outputs": [],
   "source": [
    "def calcula_estadisticas_accuracy(y_actual, y_pred):\n",
    "    TP = 0\n",
    "    FP = 0\n",
    "    TN = 0\n",
    "    FN = 0\n",
    "    for i in range(len(y_pred)): \n",
    "        if y_actual[i]==y_pred[i]==1:\n",
    "           TP += 1\n",
    "        if y_pred[i]==1 and y_actual[i]!=y_pred[i]:\n",
    "           FP += 1\n",
    "        if y_actual[i]==y_pred[i]==0:\n",
    "           TN += 1\n",
    "        if y_pred[i]==0 and y_actual[i]!=y_pred[i]:\n",
    "           FN += 1\n",
    "    \n",
    "    Accuracy = (TP+TN) / (TP+TN+FP+FN)\n",
    "    Precision = TP / (TP+FP) \n",
    "    Recall = TP / (TP+FN)\n",
    "    F1 = (2*Precision*Recall) / (Precision + Recall)\n",
    "    \n",
    "    print(\"True Positives {}\".format(TP))\n",
    "    print(\"False Positives {}\".format(FP))\n",
    "    print(\"True Negativos {}\".format(TN))\n",
    "    print(\"False Negativos {}\".format(FN))\n",
    "    print(\"Accuracy {}\".format(Accuracy))\n",
    "    print(\"Precision {}\".format(Precision))\n",
    "    print(\"Recall {}\".format(Recall))\n",
    "    print(\"F1 {}\".format(F1))"
   ]
  },
  {
   "cell_type": "markdown",
   "metadata": {},
   "source": [
    "- V1: un dni con más de un email\n",
    "- V2: un dni con más de un teléfono\n",
    "- V3: un dni con más de un dispositivo\n",
    "- V4: un email con más de un DNI\n",
    "- V5: un email con más de un teléfono\n",
    "- V6: un email con más de un dispositivo\n",
    "- V7: un teléfono con más de un DNI\n",
    "- V8: un teléfono con más de un email\n",
    "- V9: un teléfono con más de un dispositivo\n",
    "- V10: un dispositivo con más de un DNI\n",
    "- V11: un dispositivo con más de un email\n",
    "- V12: un dispositivo con más de un teléfono"
   ]
  },
  {
   "cell_type": "markdown",
   "metadata": {},
   "source": [
    "### V0: BASELINE"
   ]
  },
  {
   "cell_type": "code",
   "execution_count": 12,
   "metadata": {},
   "outputs": [
    {
     "data": {
      "text/plain": [
       " 0      25256\n",
       "-1       1010\n",
       "-2        407\n",
       "-100      111\n",
       "-50       102\n",
       "-101       17\n",
       "-102       10\n",
       "-52         7\n",
       "-109        5\n",
       "-51         5\n",
       "-66         5\n",
       "-3          5\n",
       "-201        4\n",
       "-152        4\n",
       "-200        4\n",
       "-57         3\n",
       "-60         3\n",
       "-127        3\n",
       "-150        2\n",
       "-160        2\n",
       "-202        2\n",
       "-123        2\n",
       "-103        2\n",
       "-108        1\n",
       "-114        1\n",
       "-110        1\n",
       "-156        1\n",
       "-125        1\n",
       "-116        1\n",
       "Name: Score_Baseline, dtype: int64"
      ]
     },
     "execution_count": 12,
     "metadata": {},
     "output_type": "execute_result"
    }
   ],
   "source": [
    "df['Score_Baseline'].value_counts()"
   ]
  },
  {
   "cell_type": "code",
   "execution_count": 15,
   "metadata": {},
   "outputs": [],
   "source": [
    "df['Score_Baseline_Nuevo']=df['Score_Baseline'].apply(lambda x: 1 if x<=-3 else 0) #A dia de hoy Iovation es semaforo rojo desde score -3"
   ]
  },
  {
   "cell_type": "code",
   "execution_count": 16,
   "metadata": {},
   "outputs": [
    {
     "data": {
      "text/plain": [
       "0    26673\n",
       "1      304\n",
       "Name: Score_Baseline_Nuevo, dtype: int64"
      ]
     },
     "execution_count": 16,
     "metadata": {},
     "output_type": "execute_result"
    }
   ],
   "source": [
    "df['Score_Baseline_Nuevo'].value_counts()"
   ]
  },
  {
   "cell_type": "code",
   "execution_count": 17,
   "metadata": {},
   "outputs": [],
   "source": [
    "Fraude_real = df['Fraude_Basari']\n",
    "Fraude_predicho = df['Score_Baseline_Nuevo']"
   ]
  },
  {
   "cell_type": "code",
   "execution_count": 18,
   "metadata": {},
   "outputs": [
    {
     "name": "stdout",
     "output_type": "stream",
     "text": [
      "Accuracy: 0.804574266968158\n"
     ]
    }
   ],
   "source": [
    "from sklearn.metrics import accuracy_score\n",
    "print(\"Accuracy: {0}\".format(accuracy_score(Fraude_real,Fraude_predicho)))"
   ]
  },
  {
   "cell_type": "markdown",
   "metadata": {},
   "source": [
    "Confusion Matrix"
   ]
  },
  {
   "cell_type": "code",
   "execution_count": 19,
   "metadata": {},
   "outputs": [],
   "source": [
    "import seaborn as sn\n",
    "import matplotlib.pyplot as plt\n",
    "import numpy as np"
   ]
  },
  {
   "cell_type": "code",
   "execution_count": 21,
   "metadata": {},
   "outputs": [
    {
     "data": {
      "image/png": "[encoded data removed]",
      "text/plain": [
       "<Figure size 432x288 with 1 Axes>"
      ]
     },
     "metadata": {},
     "output_type": "display_data"
    }
   ],
   "source": [
    "confusion_matrix = pd.crosstab(df['Fraude_Basari'], df['Score_Baseline_Nuevo'] , rownames=['Fraude_Basari'], colnames=['Score_Baseline_Nuevo'])\n",
    "\n",
    "# normalize=True PARA VER MATRIZ EN PORCENTAJE , normalize=True\n",
    "sn.set_style(\"whitegrid\")\n",
    "sn.heatmap(confusion_matrix,annot=True,cbar=False, fmt='g')\n",
    "plt.show()"
   ]
  },
  {
   "cell_type": "code",
   "execution_count": 22,
   "metadata": {},
   "outputs": [
    {
     "name": "stdout",
     "output_type": "stream",
     "text": [
      "True Positives 27\n",
      "False Positives 277\n",
      "True Negativos 21678\n",
      "False Negativos 4995\n",
      "Accuracy 0.804574266968158\n",
      "Precision 0.08881578947368421\n",
      "Recall 0.005376344086021506\n",
      "F1 0.010138941043935411\n"
     ]
    }
   ],
   "source": [
    "calcula_estadisticas_accuracy(df['Fraude_Basari'],df['Score_Baseline_Nuevo'])"
   ]
  },
  {
   "cell_type": "markdown",
   "metadata": {},
   "source": [
    "- A c c u r a c y = TP+TN / TP+TN+FP+FN   #exactitud\n",
    "- Precision = TP / TP+FP #Los positivos bien respecto a todos los que dijiste que eran positivos\n",
    "- Recall = TP / TP+FN\n",
    "- F1 = (2 × Precision × Recall) / (Precision + Recall)"
   ]
  },
  {
   "cell_type": "markdown",
   "metadata": {},
   "source": [
    "### V1: un dni con más de un email"
   ]
  },
  {
   "cell_type": "code",
   "execution_count": 23,
   "metadata": {},
   "outputs": [],
   "source": [
    "df['Baseline_V1']=(df['Score_Baseline']+df['V1_Score_DNI_Email']).apply(lambda x: 1 if x<=-3 else 0) #Iovation deniega a dia de hoy en -3"
   ]
  },
  {
   "cell_type": "code",
   "execution_count": 24,
   "metadata": {},
   "outputs": [
    {
     "data": {
      "text/plain": [
       "0    26583\n",
       "1      394\n",
       "Name: Baseline_V1, dtype: int64"
      ]
     },
     "execution_count": 24,
     "metadata": {},
     "output_type": "execute_result"
    }
   ],
   "source": [
    "df['Baseline_V1'].value_counts()"
   ]
  },
  {
   "cell_type": "code",
   "execution_count": 26,
   "metadata": {},
   "outputs": [],
   "source": [
    "Fraude_real = df['Fraude_Basari']\n",
    "Fraude_predicho = df['Baseline_V1']"
   ]
  },
  {
   "cell_type": "code",
   "execution_count": 27,
   "metadata": {},
   "outputs": [
    {
     "name": "stdout",
     "output_type": "stream",
     "text": [
      "Accuracy: 0.8027208362679319\n"
     ]
    }
   ],
   "source": [
    "from sklearn.metrics import accuracy_score\n",
    "print(\"Accuracy: {0}\".format(accuracy_score(Fraude_real,Fraude_predicho)))"
   ]
  },
  {
   "cell_type": "markdown",
   "metadata": {},
   "source": [
    "Confusion Matrix: V1 + Baseline"
   ]
  },
  {
   "cell_type": "code",
   "execution_count": 28,
   "metadata": {},
   "outputs": [],
   "source": [
    "# import seaborn as sn\n",
    "# import matplotlib.pyplot as plt\n",
    "# import numpy as np"
   ]
  },
  {
   "cell_type": "code",
   "execution_count": 29,
   "metadata": {},
   "outputs": [],
   "source": [
    "# df2=df[['Baseline_V1','V1_Score_DNI_Email','Score_Baseline']]\n",
    "# df2[df2['Baseline_V1'] == 1].head()\n",
    "# df2[df2['Score_Baseline'] <=-3& (df[col] < 0.7) ].head()"
   ]
  },
  {
   "cell_type": "code",
   "execution_count": 30,
   "metadata": {},
   "outputs": [
    {
     "data": {
      "image/png": "[encoded data removed]",
      "text/plain": [
       "<Figure size 432x288 with 1 Axes>"
      ]
     },
     "metadata": {},
     "output_type": "display_data"
    }
   ],
   "source": [
    "confusion_matrix = pd.crosstab(df['Fraude_Basari'], df['Baseline_V1'] , rownames=['Fraude_Basari'], colnames=['Baseline_V1'])\n",
    "# normalize=True PARA VER MATRIZ EN PORCENTAJE , normalize=True\n",
    "sn.heatmap(confusion_matrix,annot=True,cbar=False, fmt='g')\n",
    "sn.set_style(\"whitegrid\")\n",
    "plt.show()"
   ]
  },
  {
   "cell_type": "code",
   "execution_count": 31,
   "metadata": {},
   "outputs": [
    {
     "name": "stdout",
     "output_type": "stream",
     "text": [
      "True Positives 47\n",
      "False Positives 347\n",
      "True Negativos 21608\n",
      "False Negativos 4975\n",
      "Accuracy 0.8027208362679319\n",
      "Precision 0.11928934010152284\n",
      "Recall 0.009358821186778176\n",
      "F1 0.01735598227474151\n"
     ]
    }
   ],
   "source": [
    "calcula_estadisticas_accuracy(df['Fraude_Basari'],df['Baseline_V1'])\n",
    "#Aumentamos falsos positivos \n",
    "#Recall igual. TP / TP+FN. No es capaz de \"apuntar\" a los Fraudes Basari, luego se van a Falsos negativos en vez de True Positivos"
   ]
  },
  {
   "cell_type": "markdown",
   "metadata": {},
   "source": [
    "### V2: un dni con más de un teléfono"
   ]
  },
  {
   "cell_type": "code",
   "execution_count": 32,
   "metadata": {},
   "outputs": [],
   "source": [
    "df['Baseline_V2']=(df['Score_Baseline']+df['V2_Score_DNI_Telefono']).apply(lambda x: 1 if x<=-3 else 0) #Iovation deniega a dia de hoy en -3"
   ]
  },
  {
   "cell_type": "code",
   "execution_count": 33,
   "metadata": {},
   "outputs": [
    {
     "data": {
      "text/plain": [
       "0    26603\n",
       "1      374\n",
       "Name: Baseline_V2, dtype: int64"
      ]
     },
     "execution_count": 33,
     "metadata": {},
     "output_type": "execute_result"
    }
   ],
   "source": [
    "df['Baseline_V2'].value_counts()"
   ]
  },
  {
   "cell_type": "markdown",
   "metadata": {},
   "source": [
    "Confusion Matrix: V2 + Baseline"
   ]
  },
  {
   "cell_type": "code",
   "execution_count": 34,
   "metadata": {},
   "outputs": [
    {
     "data": {
      "image/png": "[encoded data removed]",
      "text/plain": [
       "<Figure size 432x288 with 1 Axes>"
      ]
     },
     "metadata": {},
     "output_type": "display_data"
    }
   ],
   "source": [
    "confusion_matrix = pd.crosstab(df['Fraude_Basari'], df['Baseline_V2'] , rownames=['Fraude_Basari'], colnames=['Baseline_V2'])\n",
    "# normalize=True PARA VER MATRIZ EN PORCENTAJE , normalize=True\n",
    "sn.heatmap(confusion_matrix,annot=True,cbar=False, fmt='g')\n",
    "sn.set_style(\"whitegrid\")\n",
    "plt.show()"
   ]
  },
  {
   "cell_type": "code",
   "execution_count": 35,
   "metadata": {},
   "outputs": [
    {
     "name": "stdout",
     "output_type": "stream",
     "text": [
      "True Positives 48\n",
      "False Positives 326\n",
      "True Negativos 21629\n",
      "False Negativos 4974\n",
      "Accuracy 0.8035363457760314\n",
      "Precision 0.12834224598930483\n",
      "Recall 0.009557945041816009\n",
      "F1 0.017790956263899184\n"
     ]
    }
   ],
   "source": [
    "calcula_estadisticas_accuracy(df['Fraude_Basari'],df['Baseline_V2'])\n",
    "# Aumentamos falsos positivos \n",
    "# Recall igual. TP / TP+FN. No es capaz de \"apuntar\" a los Fraudes Basari, luego se van a Falsos negativos en vez de True Positivos"
   ]
  },
  {
   "cell_type": "markdown",
   "metadata": {},
   "source": [
    "### V3: un dni con más de un dispositivo"
   ]
  },
  {
   "cell_type": "code",
   "execution_count": 36,
   "metadata": {},
   "outputs": [],
   "source": [
    "df['Baseline_V3']=(df['Score_Baseline']+df['V3_Score_DNI_Dispositivo']).apply(lambda x: 1 if x<=-3 else 0) #Iovation deniega a dia de hoy en -3"
   ]
  },
  {
   "cell_type": "code",
   "execution_count": 37,
   "metadata": {},
   "outputs": [
    {
     "data": {
      "text/plain": [
       "0    26547\n",
       "1      430\n",
       "Name: Baseline_V3, dtype: int64"
      ]
     },
     "execution_count": 37,
     "metadata": {},
     "output_type": "execute_result"
    }
   ],
   "source": [
    "df['Baseline_V3'].value_counts()"
   ]
  },
  {
   "cell_type": "markdown",
   "metadata": {},
   "source": [
    "Confusion Matrix: V3 + Baseline"
   ]
  },
  {
   "cell_type": "code",
   "execution_count": 38,
   "metadata": {},
   "outputs": [
    {
     "data": {
      "image/png": "[encoded data removed]",
      "text/plain": [
       "<Figure size 432x288 with 1 Axes>"
      ]
     },
     "metadata": {},
     "output_type": "display_data"
    }
   ],
   "source": [
    "confusion_matrix = pd.crosstab(df['Fraude_Basari'], df['Baseline_V3'] , rownames=['Fraude_Basari'], colnames=['Baseline_V3'])\n",
    "# normalize=True PARA VER MATRIZ EN PORCENTAJE , normalize=True\n",
    "sn.heatmap(confusion_matrix,annot=True,cbar=False, fmt='g')\n",
    "sn.set_style(\"whitegrid\")\n",
    "plt.show()"
   ]
  },
  {
   "cell_type": "code",
   "execution_count": 39,
   "metadata": {},
   "outputs": [
    {
     "name": "stdout",
     "output_type": "stream",
     "text": [
      "True Positives 57\n",
      "False Positives 373\n",
      "True Negativos 21582\n",
      "False Negativos 4965\n",
      "Accuracy 0.8021277384438595\n",
      "Precision 0.1325581395348837\n",
      "Recall 0.011350059737156512\n",
      "F1 0.02090975788701394\n"
     ]
    }
   ],
   "source": [
    "calcula_estadisticas_accuracy(df['Fraude_Basari'],df['Baseline_V3'])\n",
    "# Aumentamos falsos positivos \n",
    "# Recall igual. TP / TP+FN. No es capaz de \"apuntar\" a los Fraudes Basari, luego se van a Falsos negativos en vez de True Positivos"
   ]
  },
  {
   "cell_type": "markdown",
   "metadata": {},
   "source": [
    "### V4: un email con más de un DNI"
   ]
  },
  {
   "cell_type": "code",
   "execution_count": 40,
   "metadata": {},
   "outputs": [],
   "source": [
    "df['Baseline_V4']=(df['Score_Baseline']+df['V4_Score_Email_DNI']).apply(lambda x: 1 if x<=-3 else 0) #Iovation deniega a dia de hoy en -3"
   ]
  },
  {
   "cell_type": "code",
   "execution_count": 41,
   "metadata": {},
   "outputs": [
    {
     "data": {
      "text/plain": [
       "0    26535\n",
       "1      442\n",
       "Name: Baseline_V4, dtype: int64"
      ]
     },
     "execution_count": 41,
     "metadata": {},
     "output_type": "execute_result"
    }
   ],
   "source": [
    "df['Baseline_V4'].value_counts()"
   ]
  },
  {
   "cell_type": "markdown",
   "metadata": {},
   "source": [
    "Confusion Matrix: V4 + Baseline"
   ]
  },
  {
   "cell_type": "code",
   "execution_count": 42,
   "metadata": {},
   "outputs": [
    {
     "data": {
      "image/png": "[encoded data removed]",
      "text/plain": [
       "<Figure size 432x288 with 1 Axes>"
      ]
     },
     "metadata": {},
     "output_type": "display_data"
    }
   ],
   "source": [
    "confusion_matrix = pd.crosstab(df['Fraude_Basari'], df['Baseline_V4'] , rownames=['Fraude_Basari'], colnames=['Baseline_V4'])\n",
    "# normalize=True PARA VER MATRIZ EN PORCENTAJE , normalize=True\n",
    "sn.heatmap(confusion_matrix,annot=True,cbar=False, fmt='g')\n",
    "sn.set_style(\"whitegrid\")\n",
    "plt.show()"
   ]
  },
  {
   "cell_type": "code",
   "execution_count": 43,
   "metadata": {},
   "outputs": [
    {
     "name": "stdout",
     "output_type": "stream",
     "text": [
      "True Positives 48\n",
      "False Positives 394\n",
      "True Negativos 21561\n",
      "False Negativos 4974\n",
      "Accuracy 0.8010156800237239\n",
      "Precision 0.1085972850678733\n",
      "Recall 0.009557945041816009\n",
      "F1 0.017569546120058562\n"
     ]
    }
   ],
   "source": [
    "calcula_estadisticas_accuracy(df['Fraude_Basari'],df['Baseline_V4'])\n",
    "# Aumentamos falsos positivos \n",
    "# Recall igual. TP / TP+FN. No es capaz de \"apuntar\" a los Fraudes Basari, luego se van a Falsos negativos en vez de True Positivos"
   ]
  },
  {
   "cell_type": "markdown",
   "metadata": {},
   "source": [
    "### V5: un email con más de un teléfono"
   ]
  },
  {
   "cell_type": "code",
   "execution_count": 44,
   "metadata": {},
   "outputs": [],
   "source": [
    "df['Baseline_V5']=(df['Score_Baseline']+df['V5_Score_Email_Telefono']).apply(lambda x: 1 if x<=-3 else 0) #Iovation deniega a dia de hoy en -3"
   ]
  },
  {
   "cell_type": "code",
   "execution_count": 45,
   "metadata": {},
   "outputs": [
    {
     "data": {
      "text/plain": [
       "0    26586\n",
       "1      391\n",
       "Name: Baseline_V5, dtype: int64"
      ]
     },
     "execution_count": 45,
     "metadata": {},
     "output_type": "execute_result"
    }
   ],
   "source": [
    "df['Baseline_V5'].value_counts()"
   ]
  },
  {
   "cell_type": "markdown",
   "metadata": {},
   "source": [
    "Confusion Matrix: V5 + Baseline"
   ]
  },
  {
   "cell_type": "code",
   "execution_count": 46,
   "metadata": {},
   "outputs": [
    {
     "data": {
      "image/png": "[encoded data removed]",
      "text/plain": [
       "<Figure size 432x288 with 1 Axes>"
      ]
     },
     "metadata": {},
     "output_type": "display_data"
    }
   ],
   "source": [
    "confusion_matrix = pd.crosstab(df['Fraude_Basari'], df['Baseline_V5'] , rownames=['Fraude_Basari'], colnames=['Baseline_V5'])\n",
    "# normalize=True PARA VER MATRIZ EN PORCENTAJE , normalize=True\n",
    "sn.heatmap(confusion_matrix,annot=True,cbar=False, fmt='g')\n",
    "sn.set_style(\"whitegrid\")\n",
    "plt.show()"
   ]
  },
  {
   "cell_type": "code",
   "execution_count": 47,
   "metadata": {},
   "outputs": [
    {
     "name": "stdout",
     "output_type": "stream",
     "text": [
      "True Positives 46\n",
      "False Positives 345\n",
      "True Negativos 21610\n",
      "False Negativos 4976\n",
      "Accuracy 0.8027579048819364\n",
      "Precision 0.11764705882352941\n",
      "Recall 0.009159697331740343\n",
      "F1 0.016996120450766674\n"
     ]
    }
   ],
   "source": [
    "calcula_estadisticas_accuracy(df['Fraude_Basari'],df['Baseline_V5'])\n",
    "# Aumentamos falsos positivos \n",
    "# Recall igual. TP / TP+FN. No es capaz de \"apuntar\" a los Fraudes Basari, luego se van a Falsos negativos en vez de True Positivos"
   ]
  },
  {
   "cell_type": "markdown",
   "metadata": {},
   "source": [
    "### V6: un email con más de un dispositivo"
   ]
  },
  {
   "cell_type": "code",
   "execution_count": 48,
   "metadata": {},
   "outputs": [],
   "source": [
    "df['Baseline_V6']=(df['Score_Baseline']+df['V6_Score_Email_Dispositivo']).apply(lambda x: 1 if x<=-3 else 0) #Iovation deniega a dia de hoy en -3"
   ]
  },
  {
   "cell_type": "code",
   "execution_count": 49,
   "metadata": {},
   "outputs": [
    {
     "data": {
      "text/plain": [
       "0    26533\n",
       "1      444\n",
       "Name: Baseline_V6, dtype: int64"
      ]
     },
     "execution_count": 49,
     "metadata": {},
     "output_type": "execute_result"
    }
   ],
   "source": [
    "df['Baseline_V6'].value_counts()"
   ]
  },
  {
   "cell_type": "markdown",
   "metadata": {},
   "source": [
    "Confusion Matrix: V6 + Baseline"
   ]
  },
  {
   "cell_type": "code",
   "execution_count": 50,
   "metadata": {},
   "outputs": [
    {
     "data": {
      "image/png": "[encoded data removed]",
      "text/plain": [
       "<Figure size 432x288 with 1 Axes>"
      ]
     },
     "metadata": {},
     "output_type": "display_data"
    }
   ],
   "source": [
    "confusion_matrix = pd.crosstab(df['Fraude_Basari'], df['Baseline_V6'] , rownames=['Fraude_Basari'], colnames=['Baseline_V6'])\n",
    "# normalize=True PARA VER MATRIZ EN PORCENTAJE , normalize=True\n",
    "sn.heatmap(confusion_matrix,annot=True,cbar=False, fmt='g')\n",
    "sn.set_style(\"whitegrid\")\n",
    "plt.show()"
   ]
  },
  {
   "cell_type": "code",
   "execution_count": 51,
   "metadata": {},
   "outputs": [
    {
     "name": "stdout",
     "output_type": "stream",
     "text": [
      "True Positives 62\n",
      "False Positives 382\n",
      "True Negativos 21573\n",
      "False Negativos 4960\n",
      "Accuracy 0.8019794639878415\n",
      "Precision 0.13963963963963963\n",
      "Recall 0.012345679012345678\n",
      "F1 0.022685693377241124\n"
     ]
    }
   ],
   "source": [
    "calcula_estadisticas_accuracy(df['Fraude_Basari'],df['Baseline_V6'])\n",
    "# Aumentamos falsos positivos \n",
    "# Recall igual. TP / TP+FN. No es capaz de \"apuntar\" a los Fraudes Basari, luego se van a Falsos negativos en vez de True Positivos"
   ]
  },
  {
   "cell_type": "markdown",
   "metadata": {},
   "source": [
    "### V7: un teléfono con más de un DNI"
   ]
  },
  {
   "cell_type": "code",
   "execution_count": 52,
   "metadata": {},
   "outputs": [],
   "source": [
    "df['Baseline_V7']=(df['Score_Baseline']+df['V7_Score_Telefono_DNI']).apply(lambda x: 1 if x<=-3 else 0) #Iovation deniega a dia de hoy en -3"
   ]
  },
  {
   "cell_type": "code",
   "execution_count": 53,
   "metadata": {},
   "outputs": [
    {
     "data": {
      "text/plain": [
       "0    26465\n",
       "1      512\n",
       "Name: Baseline_V7, dtype: int64"
      ]
     },
     "execution_count": 53,
     "metadata": {},
     "output_type": "execute_result"
    }
   ],
   "source": [
    "df['Baseline_V7'].value_counts()"
   ]
  },
  {
   "cell_type": "markdown",
   "metadata": {},
   "source": [
    "Confusion Matrix: V7 + Baseline"
   ]
  },
  {
   "cell_type": "code",
   "execution_count": 54,
   "metadata": {},
   "outputs": [
    {
     "data": {
      "image/png": "[encoded data removed]",
      "text/plain": [
       "<Figure size 432x288 with 1 Axes>"
      ]
     },
     "metadata": {},
     "output_type": "display_data"
    }
   ],
   "source": [
    "confusion_matrix = pd.crosstab(df['Fraude_Basari'], df['Baseline_V7'] , rownames=['Fraude_Basari'], colnames=['Baseline_V7'])\n",
    "# normalize=True PARA VER MATRIZ EN PORCENTAJE , normalize=True\n",
    "sn.heatmap(confusion_matrix,annot=True,cbar=False, fmt='g')\n",
    "sn.set_style(\"whitegrid\")\n",
    "plt.show()"
   ]
  },
  {
   "cell_type": "code",
   "execution_count": 55,
   "metadata": {},
   "outputs": [
    {
     "name": "stdout",
     "output_type": "stream",
     "text": [
      "True Positives 63\n",
      "False Positives 449\n",
      "True Negativos 21506\n",
      "False Negativos 4959\n",
      "Accuracy 0.799532935463543\n",
      "Precision 0.123046875\n",
      "Recall 0.012544802867383513\n",
      "F1 0.022768341163715216\n"
     ]
    }
   ],
   "source": [
    "calcula_estadisticas_accuracy(df['Fraude_Basari'],df['Baseline_V7'])\n",
    "# Aumentamos falsos positivos \n",
    "# Recall igual. TP / TP+FN. No es capaz de \"apuntar\" a los Fraudes Basari, luego se van a Falsos negativos en vez de True Positivos"
   ]
  },
  {
   "cell_type": "markdown",
   "metadata": {},
   "source": [
    "### V8: un teléfono con más de un email"
   ]
  },
  {
   "cell_type": "code",
   "execution_count": 56,
   "metadata": {},
   "outputs": [],
   "source": [
    "df['Baseline_V8']=(df['Score_Baseline']+df['V8_Score_Telefono_Email']).apply(lambda x: 1 if x<=-3 else 0) #Iovation deniega a dia de hoy en -3"
   ]
  },
  {
   "cell_type": "code",
   "execution_count": 57,
   "metadata": {},
   "outputs": [
    {
     "data": {
      "text/plain": [
       "0    26537\n",
       "1      440\n",
       "Name: Baseline_V8, dtype: int64"
      ]
     },
     "execution_count": 57,
     "metadata": {},
     "output_type": "execute_result"
    }
   ],
   "source": [
    "df['Baseline_V8'].value_counts()"
   ]
  },
  {
   "cell_type": "markdown",
   "metadata": {},
   "source": [
    "Confusion Matrix: V8 + Baseline"
   ]
  },
  {
   "cell_type": "code",
   "execution_count": 58,
   "metadata": {},
   "outputs": [
    {
     "data": {
      "image/png": "[encoded data removed]",
      "text/plain": [
       "<Figure size 432x288 with 1 Axes>"
      ]
     },
     "metadata": {},
     "output_type": "display_data"
    }
   ],
   "source": [
    "confusion_matrix = pd.crosstab(df['Fraude_Basari'], df['Baseline_V8'] , rownames=['Fraude_Basari'], colnames=['Baseline_V8'])\n",
    "# normalize=True PARA VER MATRIZ EN PORCENTAJE , normalize=True\n",
    "sn.heatmap(confusion_matrix,annot=True,cbar=False, fmt='g')\n",
    "sn.set_style(\"whitegrid\")\n",
    "plt.show()"
   ]
  },
  {
   "cell_type": "code",
   "execution_count": 59,
   "metadata": {},
   "outputs": [
    {
     "name": "stdout",
     "output_type": "stream",
     "text": [
      "True Positives 51\n",
      "False Positives 389\n",
      "True Negativos 21566\n",
      "False Negativos 4971\n",
      "Accuracy 0.80131222893576\n",
      "Precision 0.1159090909090909\n",
      "Recall 0.01015531660692951\n",
      "F1 0.01867447821310875\n"
     ]
    }
   ],
   "source": [
    "calcula_estadisticas_accuracy(df['Fraude_Basari'],df['Baseline_V8'])\n",
    "# Aumentamos falsos positivos \n",
    "# Recall igual. TP / TP+FN. No es capaz de \"apuntar\" a los Fraudes Basari, luego se van a Falsos negativos en vez de True Positivos"
   ]
  },
  {
   "cell_type": "markdown",
   "metadata": {},
   "source": [
    "### V9: un teléfono con más de un dispositivo"
   ]
  },
  {
   "cell_type": "code",
   "execution_count": 60,
   "metadata": {},
   "outputs": [],
   "source": [
    "df['Baseline_V9']=(df['Score_Baseline']+df['V9_Score_Telefono_Dispositivo']).apply(lambda x: 1 if x<=-3 else 0) #Iovation deniega a dia de hoy en -3"
   ]
  },
  {
   "cell_type": "code",
   "execution_count": 61,
   "metadata": {},
   "outputs": [
    {
     "data": {
      "text/plain": [
       "0    26524\n",
       "1      453\n",
       "Name: Baseline_V9, dtype: int64"
      ]
     },
     "execution_count": 61,
     "metadata": {},
     "output_type": "execute_result"
    }
   ],
   "source": [
    "df['Baseline_V9'].value_counts()"
   ]
  },
  {
   "cell_type": "markdown",
   "metadata": {},
   "source": [
    "Confusion Matrix: V9 + Baseline"
   ]
  },
  {
   "cell_type": "code",
   "execution_count": 62,
   "metadata": {},
   "outputs": [
    {
     "data": {
      "image/png": "[encoded data removed]",
      "text/plain": [
       "<Figure size 432x288 with 1 Axes>"
      ]
     },
     "metadata": {},
     "output_type": "display_data"
    }
   ],
   "source": [
    "confusion_matrix = pd.crosstab(df['Fraude_Basari'], df['Baseline_V9'] , rownames=['Fraude_Basari'], colnames=['Baseline_V9'])\n",
    "# normalize=True PARA VER MATRIZ EN PORCENTAJE , normalize=True\n",
    "sn.heatmap(confusion_matrix,annot=True,cbar=False, fmt='g')\n",
    "sn.set_style(\"whitegrid\")\n",
    "plt.show()"
   ]
  },
  {
   "cell_type": "code",
   "execution_count": 63,
   "metadata": {},
   "outputs": [
    {
     "name": "stdout",
     "output_type": "stream",
     "text": [
      "True Positives 59\n",
      "False Positives 394\n",
      "True Negativos 21561\n",
      "False Negativos 4963\n",
      "Accuracy 0.8014234347777737\n",
      "Precision 0.13024282560706402\n",
      "Recall 0.011748307447232178\n",
      "F1 0.021552511415525114\n"
     ]
    }
   ],
   "source": [
    "calcula_estadisticas_accuracy(df['Fraude_Basari'],df['Baseline_V9'])\n",
    "# Aumentamos falsos positivos \n",
    "# Recall igual. TP / TP+FN. No es capaz de \"apuntar\" a los Fraudes Basari, luego se van a Falsos negativos en vez de True Positivos"
   ]
  },
  {
   "cell_type": "markdown",
   "metadata": {},
   "source": [
    "### V10: un dispositivo con más de un DNI"
   ]
  },
  {
   "cell_type": "code",
   "execution_count": 64,
   "metadata": {},
   "outputs": [],
   "source": [
    "df['Baseline_V10']=(df['Score_Baseline']+df['V10_Score_Dispositivo_DNI']).apply(lambda x: 1 if x<=-3 else 0) #Iovation deniega a dia de hoy en -3"
   ]
  },
  {
   "cell_type": "code",
   "execution_count": 65,
   "metadata": {},
   "outputs": [
    {
     "data": {
      "text/plain": [
       "0    26452\n",
       "1      525\n",
       "Name: Baseline_V10, dtype: int64"
      ]
     },
     "execution_count": 65,
     "metadata": {},
     "output_type": "execute_result"
    }
   ],
   "source": [
    "df['Baseline_V10'].value_counts()"
   ]
  },
  {
   "cell_type": "markdown",
   "metadata": {},
   "source": [
    "Confusion Matrix: V10 + Baseline"
   ]
  },
  {
   "cell_type": "code",
   "execution_count": 66,
   "metadata": {},
   "outputs": [
    {
     "data": {
      "image/png": "[encoded data removed]",
      "text/plain": [
       "<Figure size 432x288 with 1 Axes>"
      ]
     },
     "metadata": {},
     "output_type": "display_data"
    }
   ],
   "source": [
    "confusion_matrix = pd.crosstab(df['Fraude_Basari'], df['Baseline_V10'] , rownames=['Fraude_Basari'], colnames=['Baseline_V10'])\n",
    "# normalize=True PARA VER MATRIZ EN PORCENTAJE , normalize=True\n",
    "sn.heatmap(confusion_matrix,annot=True,cbar=False, fmt='g')\n",
    "sn.set_style(\"whitegrid\")\n",
    "plt.show()"
   ]
  },
  {
   "cell_type": "code",
   "execution_count": 67,
   "metadata": {},
   "outputs": [
    {
     "name": "stdout",
     "output_type": "stream",
     "text": [
      "True Positives 62\n",
      "False Positives 463\n",
      "True Negativos 21492\n",
      "False Negativos 4960\n",
      "Accuracy 0.7989769062534752\n",
      "Precision 0.1180952380952381\n",
      "Recall 0.012345679012345678\n",
      "F1 0.022354425815756265\n"
     ]
    }
   ],
   "source": [
    "calcula_estadisticas_accuracy(df['Fraude_Basari'],df['Baseline_V10'])\n",
    "# Aumentamos falsos positivos \n",
    "# Recall igual. TP / TP+FN. No es capaz de \"apuntar\" a los Fraudes Basari, luego se van a Falsos negativos en vez de True Positivos"
   ]
  },
  {
   "cell_type": "markdown",
   "metadata": {},
   "source": [
    "### V11: un dispositivo con más de un email"
   ]
  },
  {
   "cell_type": "code",
   "execution_count": 68,
   "metadata": {},
   "outputs": [],
   "source": [
    "df['Baseline_V11']=(df['Score_Baseline']+df['V11_Score_Dispositivo_DNI']).apply(lambda x: 1 if x<=-3 else 0) #Iovation deniega a dia de hoy en -3"
   ]
  },
  {
   "cell_type": "code",
   "execution_count": 69,
   "metadata": {},
   "outputs": [
    {
     "data": {
      "text/plain": [
       "0    26526\n",
       "1      451\n",
       "Name: Baseline_V11, dtype: int64"
      ]
     },
     "execution_count": 69,
     "metadata": {},
     "output_type": "execute_result"
    }
   ],
   "source": [
    "df['Baseline_V11'].value_counts()"
   ]
  },
  {
   "cell_type": "markdown",
   "metadata": {},
   "source": [
    "Confusion Matrix: V11 + Baseline"
   ]
  },
  {
   "cell_type": "code",
   "execution_count": 70,
   "metadata": {},
   "outputs": [
    {
     "data": {
      "image/png": "[encoded data removed]",
      "text/plain": [
       "<Figure size 432x288 with 1 Axes>"
      ]
     },
     "metadata": {},
     "output_type": "display_data"
    }
   ],
   "source": [
    "confusion_matrix = pd.crosstab(df['Fraude_Basari'], df['Baseline_V11'] , rownames=['Fraude_Basari'], colnames=['Baseline_V11'])\n",
    "# normalize=True PARA VER MATRIZ EN PORCENTAJE , normalize=True\n",
    "sn.heatmap(confusion_matrix,annot=True,cbar=False, fmt='g')\n",
    "sn.set_style(\"whitegrid\")\n",
    "plt.show()"
   ]
  },
  {
   "cell_type": "code",
   "execution_count": 71,
   "metadata": {},
   "outputs": [
    {
     "name": "stdout",
     "output_type": "stream",
     "text": [
      "True Positives 51\n",
      "False Positives 400\n",
      "True Negativos 21555\n",
      "False Negativos 4971\n",
      "Accuracy 0.8009044741817103\n",
      "Precision 0.1130820399113082\n",
      "Recall 0.01015531660692951\n",
      "F1 0.018636945002740726\n"
     ]
    }
   ],
   "source": [
    "calcula_estadisticas_accuracy(df['Fraude_Basari'],df['Baseline_V11'])\n",
    "# Aumentamos falsos positivos \n",
    "# Recall igual. TP / TP+FN. No es capaz de \"apuntar\" a los Fraudes Basari, luego se van a Falsos negativos en vez de True Positivos"
   ]
  },
  {
   "cell_type": "markdown",
   "metadata": {},
   "source": [
    "### V12: un dispositivo con más de un teléfono"
   ]
  },
  {
   "cell_type": "code",
   "execution_count": 72,
   "metadata": {},
   "outputs": [],
   "source": [
    "df['Baseline_V12']=(df['Score_Baseline']+df['V12_Score_Dispositivo_DNI']).apply(lambda x: 1 if x<=-3 else 0) #Iovation deniega a dia de hoy en -3"
   ]
  },
  {
   "cell_type": "code",
   "execution_count": 73,
   "metadata": {},
   "outputs": [
    {
     "data": {
      "text/plain": [
       "0    26551\n",
       "1      426\n",
       "Name: Baseline_V12, dtype: int64"
      ]
     },
     "execution_count": 73,
     "metadata": {},
     "output_type": "execute_result"
    }
   ],
   "source": [
    "df['Baseline_V12'].value_counts()"
   ]
  },
  {
   "cell_type": "markdown",
   "metadata": {},
   "source": [
    "Confusion Matrix: V12 + Baseline"
   ]
  },
  {
   "cell_type": "code",
   "execution_count": 74,
   "metadata": {},
   "outputs": [
    {
     "data": {
      "image/png": "[encoded data removed]",
      "text/plain": [
       "<Figure size 432x288 with 1 Axes>"
      ]
     },
     "metadata": {},
     "output_type": "display_data"
    }
   ],
   "source": [
    "confusion_matrix = pd.crosstab(df['Fraude_Basari'], df['Baseline_V12'] , rownames=['Fraude_Basari'], colnames=['Baseline_V12'])\n",
    "# normalize=True PARA VER MATRIZ EN PORCENTAJE , normalize=True\n",
    "sn.heatmap(confusion_matrix,annot=True,cbar=False, fmt='g')\n",
    "sn.set_style(\"whitegrid\")\n",
    "plt.show()"
   ]
  },
  {
   "cell_type": "code",
   "execution_count": 75,
   "metadata": {},
   "outputs": [
    {
     "name": "stdout",
     "output_type": "stream",
     "text": [
      "True Positives 45\n",
      "False Positives 381\n",
      "True Negativos 21574\n",
      "False Negativos 4977\n",
      "Accuracy 0.8013863661637691\n",
      "Precision 0.1056338028169014\n",
      "Recall 0.008960573476702509\n",
      "F1 0.016519823788546256\n"
     ]
    }
   ],
   "source": [
    "calcula_estadisticas_accuracy(df['Fraude_Basari'],df['Baseline_V12'])\n",
    "# Aumentamos falsos positivos \n",
    "# Recall igual. TP / TP+FN. No es capaz de \"apuntar\" a los Fraudes Basari, luego se van a Falsos negativos en vez de True Positivos"
   ]
  },
  {
   "cell_type": "markdown",
   "metadata": {},
   "source": [
    "### V1+V2+V3+V4+V5+V6+V7+V8+V9+V10+V11+V12"
   ]
  },
  {
   "cell_type": "code",
   "execution_count": 76,
   "metadata": {},
   "outputs": [],
   "source": [
    "df['Baseline_V_ALL']=(df['Score_Baseline']+df['V1_Score_DNI_Email']+df['V2_Score_DNI_Telefono']+df['V3_Score_DNI_Dispositivo']+df['V4_Score_Email_DNI']+df['V5_Score_Email_Telefono']+df['V6_Score_Email_Dispositivo']+df['V7_Score_Telefono_DNI']+df['V8_Score_Telefono_Email']+df['V9_Score_Telefono_Dispositivo']+df['V10_Score_Dispositivo_DNI']+df['V11_Score_Dispositivo_DNI']+df['V12_Score_Dispositivo_DNI'])"
   ]
  },
  {
   "cell_type": "code",
   "execution_count": 77,
   "metadata": {},
   "outputs": [
    {
     "data": {
      "text/plain": [
       " 0      17542\n",
       "-3       4205\n",
       "-4       1239\n",
       "-5        968\n",
       "-6        684\n",
       "-7        499\n",
       "-1        350\n",
       "-8        319\n",
       "-2        229\n",
       "-9        226\n",
       "-10       183\n",
       "-11       103\n",
       "-12        84\n",
       "-100       75\n",
       "-50        59\n",
       "-13        35\n",
       "-53        26\n",
       "-103       21\n",
       "-109       10\n",
       "-14        10\n",
       "-101        8\n",
       "-56         7\n",
       "-55         6\n",
       "-104        5\n",
       "-107        5\n",
       "-54         4\n",
       "-51         4\n",
       "-204        4\n",
       "-155        4\n",
       "-60         4\n",
       "-108        4\n",
       "-66         4\n",
       "-102        4\n",
       "-110        4\n",
       "-206        3\n",
       "-117        3\n",
       "-105        3\n",
       "-52         3\n",
       "-57         3\n",
       "-116        2\n",
       "-209        2\n",
       "-127        2\n",
       "-15         2\n",
       "-126        1\n",
       "-160        1\n",
       "-106        1\n",
       "-59         1\n",
       "-150        1\n",
       "-113        1\n",
       "-128        1\n",
       "-156        1\n",
       "-69         1\n",
       "-129        1\n",
       "-114        1\n",
       "-112        1\n",
       "-163        1\n",
       "-200        1\n",
       "-58         1\n",
       "-130        1\n",
       "-76         1\n",
       "-111        1\n",
       "-153        1\n",
       "-62         1\n",
       "Name: Baseline_V_ALL, dtype: int64"
      ]
     },
     "execution_count": 77,
     "metadata": {},
     "output_type": "execute_result"
    }
   ],
   "source": [
    "df['Baseline_V_ALL'].value_counts()"
   ]
  },
  {
   "cell_type": "markdown",
   "metadata": {},
   "source": [
    "Confusion Matrix: V_X + Baseline"
   ]
  },
  {
   "cell_type": "code",
   "execution_count": 78,
   "metadata": {},
   "outputs": [],
   "source": [
    "lista_input =['Score_Baseline','V1_Score_DNI_Email','V2_Score_DNI_Telefono','V3_Score_DNI_Dispositivo','V4_Score_Email_DNI','V5_Score_Email_Telefono','V6_Score_Email_Dispositivo','V7_Score_Telefono_DNI','V8_Score_Telefono_Email','V9_Score_Telefono_Dispositivo','V10_Score_Dispositivo_DNI','V11_Score_Dispositivo_DNI','V12_Score_Dispositivo_DNI']"
   ]
  },
  {
   "cell_type": "code",
   "execution_count": 79,
   "metadata": {},
   "outputs": [],
   "source": [
    "def confusion_matrix_function(lista,A):\n",
    "    confusion_matrix = pd.crosstab(df['Fraude_Basari'], df[lista].sum(axis=1).apply(lambda x: 1 if x<=A else 0) , rownames=['Fraude_Basari'], colnames=['Baseline_VX'])\n",
    "    # normalize=True PARA VER MATRIZ EN PORCENTAJE , normalize=True\n",
    "    sn.heatmap(confusion_matrix,annot=True,cbar=False, fmt='g')\n",
    "    sn.set_style(\"whitegrid\")\n",
    "    plt.show()"
   ]
  },
  {
   "cell_type": "code",
   "execution_count": 80,
   "metadata": {},
   "outputs": [
    {
     "data": {
      "image/png": "[encoded data removed]",
      "text/plain": [
       "<Figure size 432x288 with 1 Axes>"
      ]
     },
     "metadata": {},
     "output_type": "display_data"
    }
   ],
   "source": [
    "confusion_matrix_function(lista_input,-2)"
   ]
  },
  {
   "cell_type": "code",
   "execution_count": 81,
   "metadata": {},
   "outputs": [],
   "source": [
    "df['Baseline_VX']=df[lista_input].sum(axis=1).apply(lambda x: 1 if x<=-3 else 0) #Iovation deniega a dia de hoy en -3"
   ]
  },
  {
   "cell_type": "code",
   "execution_count": 82,
   "metadata": {},
   "outputs": [
    {
     "name": "stdout",
     "output_type": "stream",
     "text": [
      "True Positives 2070\n",
      "False Positives 6786\n",
      "True Negativos 15169\n",
      "False Negativos 2952\n",
      "Accuracy 0.6390258368239612\n",
      "Precision 0.23373983739837398\n",
      "Recall 0.4121863799283154\n",
      "F1 0.29831387808041504\n"
     ]
    }
   ],
   "source": [
    "calcula_estadisticas_accuracy(df['Fraude_Basari'],df['Baseline_VX'])\n",
    "# Aumentamos falsos positivos \n",
    "# Recall SUBE. TP / TP+FN"
   ]
  },
  {
   "cell_type": "markdown",
   "metadata": {},
   "source": [
    "# Pendiente"
   ]
  },
  {
   "cell_type": "markdown",
   "metadata": {},
   "source": [
    "- Cual es la combinacion de variables que aumenta los True Positives y qué variables no aportan nada??"
   ]
  },
  {
   "cell_type": "code",
   "execution_count": null,
   "metadata": {},
   "outputs": [],
   "source": []
  }
 ],
 "metadata": {
  "kernelspec": {
   "display_name": "Python 3 (ipykernel)",
   "language": "python",
   "name": "python3"
  },
  "language_info": {
   "codemirror_mode": {
    "name": "ipython",
    "version": 3
   },
   "file_extension": ".py",
   "mimetype": "text/x-python",
   "name": "python",
   "nbconvert_exporter": "python",
   "pygments_lexer": "ipython3",
   "version": "3.9.7"
  }
 },
 "nbformat": 4,
 "nbformat_minor": 4
}
